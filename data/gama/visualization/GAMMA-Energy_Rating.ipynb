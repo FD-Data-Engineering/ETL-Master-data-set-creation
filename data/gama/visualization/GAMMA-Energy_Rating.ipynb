{
 "cells": [
  {
   "cell_type": "code",
   "execution_count": 2,
   "metadata": {
    "_cell_guid": "b1076dfc-b9ad-4769-8c92-a6c4dae69d19",
    "_uuid": "8f2839f25d086af736a60e9eeb907d3b93b6e0e5"
   },
   "outputs": [],
   "source": [
    "# Installing Folium for making a simple map w'll use folium.Map function and set location and zoom_start for appearing the map.\n",
    "pip install folium\n",
    "\n",
    "import folium \n",
    "import numpy as np \n",
    "import pandas as pd "
   ]
  },
  {
   "cell_type": "code",
   "execution_count": 3,
   "metadata": {
    "_cell_guid": "79c7e3d0-c299-4dcb-8224-4455121ee9b0",
    "_uuid": "d629ff2d2480ee46fbb7e2d37f6b5fab8052498a",
    "scrolled": true
   },
   "outputs": [],
   "source": [
    "# Reading the gamma data in the dataframes.\n",
    "\n",
    "df_eneregy_rating=pd.read_csv('data/energy_rating_data.csv')\n",
    "df_ecad_data = pd.read_csv('data/ecad_20221216.csv')"
   ]
  },
  {
   "cell_type": "code",
   "execution_count": null,
   "metadata": {},
   "outputs": [],
   "source": [
    "# Joining the ecad_data with energy rating data.\n",
    "\n",
    "df_ecad_energy_rating = pd.merge(df_ecad_data, df_eneregy_rating, on=['ecad_id'])\n",
    "df_ecad_energy_rating.head()"
   ]
  },
  {
   "cell_type": "code",
   "execution_count": 5,
   "metadata": {},
   "outputs": [],
   "source": [
    "# Color coding the energy rating.\n",
    "\n",
    "colors={'A1':'darkgreen' , \n",
    "'A2':'darkgreen'  ,        \n",
    "'A3':'darkgreen'   ,        \n",
    "'B1':'green',   \n",
    "'B2':'green',    \n",
    "'B3':'green',       \n",
    "'C1':'lightgreen',   \n",
    "'C2':'lightgreen', \n",
    "'C3':'lightgreen',\n",
    "'D1':'beige',\n",
    "'D2':'oranges',\n",
    "'E1':'oranges',\n",
    "'E2':'lightred',\n",
    "'F' :'red',\n",
    "'G' :'darkred',\n",
    "       }"
   ]
  },
  {
   "cell_type": "code",
   "execution_count": 6,
   "metadata": {},
   "outputs": [],
   "source": [
    "# Creating the popup labels for energy rating data for building id to display on selection of the icon marker in the map.\n",
    "\n",
    "def popup_html(row):\n",
    "    i = row\n",
    "    Building_ID=df_ecad_energy_rating['building_id'].iloc[i] \n",
    "    Address= df_ecad_energy_rating['address_line_1'].iloc[i]\n",
    "    Ber_Rating = df_ecad_energy_rating['ber_rating'].iloc[i]\n",
    "    Ber_Rating_Kwh = df_ecad_energy_rating['ber_rating_kwh'].iloc[i]\n",
    "    Co2_Emission = df_ecad_energy_rating['co2_emission'].iloc[i]\n",
    "\n",
    "    left_col_color = \"#3e95b5\"\n",
    "    right_col_color = \"#f2f9ff\"\n",
    "    \n",
    "    html = \"\"\"\n",
    "<!DOCTYPE html>\n",
    "<html>\n",
    "<center><h4 style=\"margin-bottom:5\"; width=\"200px\">{}</h4>\"\"\".format(Building_ID) + \"\"\"</center>\n",
    "<center> <table style=\"height: 126px; width: 305px;\">\n",
    "<tbody>\n",
    "<tr>\n",
    "<td style=\"background-color: \"\"\"+ left_col_color +\"\"\";\"><span style=\"color: #ffffff;\">Address </span></td>\n",
    "<td style=\"width: 150px;background-color: \"\"\"+ right_col_color +\"\"\";\">\"\"\"+ Address + \"\"\"</td>\n",
    "</tr>\n",
    "<tr>\n",
    "<td style=\"background-color: \"\"\"+ left_col_color +\"\"\";\"><span style=\"color: #ffffff;\">Ber_Rating </span></td>\n",
    "<td style=\"width: 150px;background-color: \"\"\"+ right_col_color +\"\"\";\">{}</td>\"\"\".format(Ber_Rating) + \"\"\"\n",
    "</tr>\n",
    "<tr>\n",
    "<td style=\"background-color: \"\"\"+ left_col_color +\"\"\";\"><span style=\"color: #ffffff;\">Ber_Rating_Kwh </span></td>\n",
    "<td style=\"width: 150px;background-color: \"\"\"+ right_col_color +\"\"\";\">{}</td>\"\"\".format(Ber_Rating_Kwh) + \"\"\"\n",
    "</tr>\n",
    "<tr>\n",
    "<td style=\"background-color: \"\"\"+ left_col_color +\"\"\";\"><span style=\"color: #ffffff;\">Co2_Emission </span></td>\n",
    "<td style=\"width: 150px;background-color: \"\"\"+ right_col_color +\"\"\";\">{}</td>\"\"\".format(Co2_Emission) + \"\"\"\n",
    "</tr>\n",
    "</tbody>\n",
    "</table></center>\n",
    "</html>\n",
    "\"\"\"\n",
    "    return html"
   ]
  },
  {
   "cell_type": "code",
   "execution_count": null,
   "metadata": {
    "scrolled": true
   },
   "outputs": [],
   "source": [
    "# Displaying the Ber Rating, Ber Rating kwh and CO2 emission by address and building_id.\n",
    "\n",
    "location = df_ecad_energy_rating['etrs89_lat'].mean(), df_ecad_energy_rating['etrs89_long'].mean()\n",
    "m_cluster = folium.Map(location=location,zoom_start=12)\n",
    "from folium import plugins\n",
    "from folium.plugins import FloatImage\n",
    "cluster=plugins.MarkerCluster().add_to(m_cluster)\n",
    "image_file = 'data/fd_gamma_data-20221216/ber.PNG'\n",
    "FloatImage(image_file, bottom=0, left=86).add_to(cluster)    \n",
    "m = folium.Map(location=location,zoom_start=6)\n",
    "for i in range(0,len(df_ecad_energy_rating)): \n",
    "    html = popup_html(i)\n",
    "    popup = folium.Popup(folium.Html(html, script=True), max_width=500)\n",
    "    folium.Marker([df_ecad_energy_rating['etrs89_lat'].iloc[i],df_ecad_energy_rating['etrs89_long'].iloc[i]],\n",
    "                  popup=popup,icon=folium.Icon(color=colors[df_ecad_energy_rating['ber_rating'].iloc[i]],icon='building', prefix='fa')).add_to(cluster)\n",
    "\n",
    "m_cluster\n",
    "\n",
    "m_cluster.save(\"ecad_energy_rating.html\")"
   ]
  }
 ],
 "metadata": {
  "kernelspec": {
   "display_name": "Python 3",
   "language": "python",
   "name": "python3"
  },
  "language_info": {
   "codemirror_mode": {
    "name": "ipython",
    "version": 3
   },
   "file_extension": ".py",
   "mimetype": "text/x-python",
   "name": "python",
   "nbconvert_exporter": "python",
   "pygments_lexer": "ipython3",
   "version": "3.7.7"
  }
 },
 "nbformat": 4,
 "nbformat_minor": 1
}
