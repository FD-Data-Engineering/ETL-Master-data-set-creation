{
 "cells": [
  {
   "cell_type": "markdown",
   "metadata": {},
   "source": [
    "# Consumer  for PACE API Data"
   ]
  },
  {
   "cell_type": "code",
   "execution_count": 26,
   "metadata": {},
   "outputs": [
    {
     "name": "stdout",
     "output_type": "stream",
     "text": [
      "{'reportId': 75, 'status': 'GENERATING'}\n",
      "75\n"
     ]
    }
   ],
   "source": [
    "# Example : https://stackoverflow.com/questions/6386308/http-requests-and-json-parsing-in-python\n",
    "# Midhun polisetty\n",
    "#PACE API Data Consumer #step 1 for getting report ID \n",
    "\n",
    "import requests\n",
    "import csv\n",
    "\n",
    "pace_url1 = 'https://api-sandbox.pace-esg.com/pace-sandbox/v1/api/report/portfolio'\n",
    "\n",
    "headers = {\n",
    "    'Content-Type': 'application/json',\n",
    "    'x-apikey': 'gYKof1RI2k5wlGN095Z5VUYFfZnKiNg2l5GTBCh7uhfMe45v',\n",
    "}\n",
    "\n",
    "params = {'': ['','',],}\n",
    "\n",
    "json_data = {\n",
    "    'fromDate': '2022-01-01',\n",
    "    'portfolioId': 144,\n",
    "    'toDate': '2022-12-31',\n",
    "}\n",
    "\n",
    "response = requests.post(pace_url1, params=params, headers=headers, json=json_data)\n",
    "\n",
    "print(response.json())\n",
    "\n",
    "myresponseofjson = response.json()\n",
    "\n",
    "print(myresponseofjson['reportId'])\n",
    "\n"
   ]
  },
  {
   "cell_type": "code",
   "execution_count": 27,
   "metadata": {},
   "outputs": [
    {
     "name": "stdout",
     "output_type": "stream",
     "text": [
      "<Response [200]>\n",
      "https://api-sandbox.pace-esg.com/pace-sandbox/v1/api/report/portfolio/75\n",
      "data/pace/pace-fleet-demo-api/pace-api-data22_03_2023_10_31_48.csv\n"
     ]
    }
   ],
   "source": [
    "# Midhun polisetty\n",
    "#PACE API Data Consumer #step2 for consuming data with report ID \n",
    "\n",
    "import requests\n",
    "import csv\n",
    "import datetime\n",
    "\n",
    "\n",
    "pace_url2 = 'https://api-sandbox.pace-esg.com/pace-sandbox/v1/api/report/portfolio/%s' %(myresponseofjson['reportId'])\n",
    "time_now  = datetime.datetime.now().strftime('%d_%m_%Y_%H_%M_%S') \n",
    "file_name = \"data/pace/pace-fleet-demo-api/pace-api-data\"+time_now+\".csv\"\n",
    "\n",
    "headers = {\n",
    "    'Content-Type': 'application/json',\n",
    "    'x-apikey': 'gYKof1RI2k5wlGN095Z5VUYFfZnKiNg2l5GTBCh7uhfMe45v',\n",
    "}\n",
    "\n",
    "response = requests.get(pace_url2, params=params, headers=headers)\n",
    "\n",
    "with open(file_name,\"w\") as f:  \n",
    "     f.write(response.text)\n",
    "    \n",
    "print(response)\n",
    "print(pace_url2)\n",
    "print(file_name)"
   ]
  },
  {
   "cell_type": "code",
   "execution_count": 28,
   "metadata": {},
   "outputs": [
    {
     "data": {
      "text/plain": [
       "{'Date': 'Wed, 22 Mar 2023 10:31:49 GMT', 'Content-Type': 'text/csv', 'Transfer-Encoding': 'chunked', 'Connection': 'keep-alive', 'content-disposition': 'attachment; filename=portfolio-report-7b855e6a-cfb0-4ddd-8fd6-4631ee96d57b.csv', 'x-activity-id': 'd0233784ed0bd4cc3cc263ba99c7672d', 'strict-transport-security': 'max-age=15724800; includeSubDomains', 'x-request-id': '5a44fbc0-0768-4d23-8fb0-4e5d37bbdf39', 'via': '1.1 google', 'CF-Cache-Status': 'DYNAMIC', 'Server': 'cloudflare', 'CF-RAY': '7abdc4610bd34114-PRG'}"
      ]
     },
     "execution_count": 28,
     "metadata": {},
     "output_type": "execute_result"
    }
   ],
   "source": [
    "response.headers"
   ]
  },
  {
   "cell_type": "code",
   "execution_count": 29,
   "metadata": {},
   "outputs": [
    {
     "data": {
      "text/plain": [
       "'ISO-8859-1'"
      ]
     },
     "execution_count": 29,
     "metadata": {},
     "output_type": "execute_result"
    }
   ],
   "source": [
    "response.encoding"
   ]
  },
  {
   "cell_type": "code",
   "execution_count": 30,
   "metadata": {},
   "outputs": [
    {
     "data": {
      "text/plain": [
       "'Internal ID,Portfolio name,Msn,Aircraft Manufacturer,Aircraft Icao,Aircraft Variant,Year of manufacture,Aircraft Registration,Former registration,Portfolio member from date,Portfolio member to date,Loan Participation Percent,Client Ref\\n41655,First Derivative Sandbox,9193,AIRBUS,A20N,A320-200N,2019,RA73454,VQBTL,01/01/2022,31/12/2022,100.00,\\n41656,First Derivative Sandbox,8890,AIRBUS,A20N,A320-200N,2019,RA73451,VPBWT,01/01/2022,31/12/2022,100.00,\\n41657,First Derivative Sandbox,60434,BOEING,B38M,B737-8,2019,XADAE,N712BA,01/01/2022,31/12/2022,100.00,\\n41658,First Derivative Sandbox,60455,BOEING,B38M,B737-8,2019,XADAH,,01/01/2022,31/12/2022,100.00,\\n41659,First Derivative Sandbox,43798,BOEING,B38M,B737-8,2019,XADAI,,01/01/2022,31/12/2022,100.00,\\n41660,First Derivative Sandbox,61855,BOEING,B38M,B737-8,2019,XADAJ,,01/01/2022,31/12/2022,100.00,\\n41661,First Derivative Sandbox,60227,BOEING,B38M,B737-8,2019,XADAL,,01/01/2022,31/12/2022,100.00,\\n41662,First Derivative Sandbox,43976,BOEING,B38M,B737-8,2019,XADAO,,01/01/2022,31/12/2022,100.00,\\n41663,First Derivative Sandbox,62426,BOEING,B38M,B737-8,2019,XADAQ,,01/01/2022,31/12/2022,100.00,\\n41664,First Derivative Sandbox,62427,BOEING,B38M,B737-8,2020,XADAT,,01/01/2022,31/12/2022,100.00,\\n41665,First Derivative Sandbox,43717,BOEING,B39M,B737-9,2022,XAJGQ,,01/01/2022,31/12/2022,100.00,\\n41666,First Derivative Sandbox,43718,BOEING,B39M,B737-9,2022,XAJSO,,01/01/2022,31/12/2022,100.00,\\n41667,First Derivative Sandbox,43705,BOEING,B38M,B737-8,2018,XAMAK,,01/01/2022,31/12/2022,100.00,\\n41668,First Derivative Sandbox,43710,BOEING,B38M,B737-8,2018,XAMAQ,,01/01/2022,31/12/2022,100.00,\\n41669,First Derivative Sandbox,43310,BOEING,B38M,B737-8,2019,XAMFM,,01/01/2022,31/12/2022,100.00,\\n41670,First Derivative Sandbox,60714,BOEING,B38M,B737-8,2019,XAMFN,,01/01/2022,31/12/2022,100.00,\\n41671,First Derivative Sandbox,60444,BOEING,B38M,B737-8,2019,XAMJI,,01/01/2022,31/12/2022,100.00,\\n41672,First Derivative Sandbox,44483,BOEING,B38M,B737-8,2020,N302SS,,01/01/2022,31/12/2022,100.00,\\n41673,First Derivative Sandbox,44488,BOEING,B38M,B737-8,2021,N306SW,,01/01/2022,31/12/2022,100.00,\\n41674,First Derivative Sandbox,44472,BOEING,B38M,B737-8,2019,N316SE,,01/01/2022,31/12/2022,100.00,\\n41675,First Derivative Sandbox,44473,BOEING,B38M,B737-8,2019,N318SF,,01/01/2022,31/12/2022,100.00,\\n41676,First Derivative Sandbox,44474,BOEING,B38M,B737-8,2019,N323SG,,01/01/2022,31/12/2022,100.00,\\n41677,First Derivative Sandbox,44475,BOEING,B38M,B737-8,2019,N326SJ,,01/01/2022,31/12/2022,100.00,\\n41678,First Derivative Sandbox,44477,BOEING,B38M,B737-8,2019,N327SK,,01/01/2022,31/12/2022,100.00,\\n41679,First Derivative Sandbox,44478,BOEING,B38M,B737-8,2019,N334SM,,01/01/2022,31/12/2022,100.00,\\n41680,First Derivative Sandbox,44481,BOEING,B38M,B737-8,2019,N335SN,,01/01/2022,31/12/2022,100.00,\\n41681,First Derivative Sandbox,44482,BOEING,B38M,B737-8,2020,N336SR,,01/01/2022,31/12/2022,100.00,\\n41682,First Derivative Sandbox,44484,BOEING,B38M,B737-8,2020,N338ST,,01/01/2022,31/12/2022,100.00,\\n41683,First Derivative Sandbox,44487,BOEING,B38M,B737-8,2021,N341SV,,01/01/2022,31/12/2022,100.00,\\n41684,First Derivative Sandbox,10173,AIRBUS,A21N,A321-200NX(LR),2021,PRYJD,,01/01/2022,31/12/2022,100.00,\\n41685,First Derivative Sandbox,10070,AIRBUS,A20N,A320-200N,2020,PRYSG,,01/01/2022,31/12/2022,100.00,\\n41686,First Derivative Sandbox,1566,AIRBUS,A320,A320-200,2001,9HLOP,OELOP,01/01/2022,31/12/2022,100.00,\\n41687,First Derivative Sandbox,1793,AIRBUS,A320,A320-200,2002,ECILR,,01/01/2022,31/12/2022,100.00,\\n41688,First Derivative Sandbox,43996,BOEING,B38M,B737-8,2019,PRXML,,01/01/2022,31/12/2022,100.00,\\n41689,First Derivative Sandbox,61807,BOEING,B38M,B737-8,2019,CFLKC,,01/01/2022,31/12/2022,100.00,\\n41690,First Derivative Sandbox,64941,BOEING,B38M,B737-8,2019,CFLEJ,,01/01/2022,31/12/2022,100.00,\\n41691,First Derivative Sandbox,10052,AIRBUS,A20N,A320-200N,2020,ECNIY,,01/01/2022,31/12/2022,100.00,\\n41692,First Derivative Sandbox,10069,AIRBUS,A20N,A320-200N,2020,XAVSJ,CCAWP,01/01/2022,31/12/2022,100.00,\\n41693,First Derivative Sandbox,10112,AIRBUS,A20N,A320-200N,2020,HALJC,,01/01/2022,31/12/2022,100.00,\\n41694,First Derivative Sandbox,10131,AIRBUS,A20N,A320-200N,2020,JA201P,,01/01/2022,31/12/2022,100.00,\\n41695,First Derivative Sandbox,10139,AIRBUS,A20N,A320-200N,2020,RA73449,VQBSF,01/01/2022,31/12/2022,100.00,\\n41696,First Derivative Sandbox,10151,AIRBUS,A21N,A321-200NX,2021,VTILN,,01/01/2022,31/12/2022,100.00,\\n41697,First Derivative Sandbox,10160,AIRBUS,A20N,A320-200N,2020,VPBSL,FWWIY,01/01/2022,31/12/2022,100.00,\\n41698,First Derivative Sandbox,10175,AIRBUS,A20N,A320-200N,2020,RA73450,VPBSR,01/01/2022,31/12/2022,100.00,\\n41699,First Derivative Sandbox,10180,AIRBUS,A20N,A320-200N,2021,RA73732,VPBRG,01/01/2022,31/12/2022,100.00,\\n41700,First Derivative Sandbox,10240,AIRBUS,A21N,A321-200NX,2020,VTILM,,01/01/2022,31/12/2022,100.00,\\n41701,First Derivative Sandbox,10258,AIRBUS,A20N,A320-200N,2021,RA73733,VPBPM,01/01/2022,31/12/2022,100.00,\\n41702,First Derivative Sandbox,10268,AIRBUS,A20N,A320-200N,2020,B320Z,,01/01/2022,31/12/2022,100.00,\\n41703,First Derivative Sandbox,10273,AIRBUS,A21N,A321-200NX,2021,RPC4126,,01/01/2022,31/12/2022,100.00,\\n41704,First Derivative Sandbox,10305,AIRBUS,A21N,A321-200NX,2021,SXNAD,,01/01/2022,31/12/2022,100.00,\\n41705,First Derivative Sandbox,10314,AIRBUS,A21N,A321-200NX,2021,RA73704,VPBRC,01/01/2022,31/12/2022,100.00,\\n41706,First Derivative Sandbox,10316,AIRBUS,A20N,A320-200N,2021,N936NK,,01/01/2022,31/12/2022,100.00,\\n41707,First Derivative Sandbox,10323,AIRBUS,A21N,A321-200NX,2021,VTILD,,01/01/2022,31/12/2022,100.00,\\n41708,First Derivative Sandbox,10327,AIRBUS,A20N,A320-200N,2020,N376FR,,01/01/2022,31/12/2022,100.00,\\n41709,First Derivative Sandbox,10341,AIRBUS,A21N,A321-200NX,2021,VTILF,,01/01/2022,31/12/2022,100.00,\\n41710,First Derivative Sandbox,10354,AIRBUS,A21N,A321-200NX,2021,VTILH,,01/01/2022,31/12/2022,100.00,\\n41711,First Derivative Sandbox,10370,AIRBUS,A21N,A321-200NX,2021,9HWAP,HALVY,01/01/2022,31/12/2022,100.00,\\n41712,First Derivative Sandbox,10373,AIRBUS,A21N,A321-200NX,2022,9VNCH,,01/01/2022,31/12/2022,100.00,\\n41713,First Derivative Sandbox,10390,AIRBUS,A21N,A321-200NX,2021,9VNCF,,01/01/2022,31/12/2022,100.00,\\n41714,First Derivative Sandbox,10393,AIRBUS,A21N,A321-200NX,2021,9HWAQ,HALZC,01/01/2022,31/12/2022,100.00,\\n41715,First Derivative Sandbox,10407,AIRBUS,A20N,A320-200N,2021,SERUE,,01/01/2022,31/12/2022,100.00,\\n41716,First Derivative Sandbox,10412,AIRBUS,A21N,A321-200NX,2021,HL8357,,01/01/2022,31/12/2022,100.00,\\n41717,First Derivative Sandbox,10425,AIRBUS,A20N,A320-200N,2021,XAVSH,FWWDU,01/01/2022,31/12/2022,100.00,\\n41718,First Derivative Sandbox,10476,AIRBUS,A21N,A321-200NX,2021,RA73802,VPBFI,01/01/2022,31/12/2022,100.00,\\n41719,First Derivative Sandbox,10492,AIRBUS,A21N,A321-200NX,2022,9VNCI,,01/01/2022,31/12/2022,100.00,\\n41720,First Derivative Sandbox,10498,AIRBUS,A20N,A320-200N,2021,B324D,,01/01/2022,31/12/2022,100.00,\\n41721,First Derivative Sandbox,10508,AIRBUS,A21N,A321-200NX,2021,9HWAT,HALZH,01/01/2022,31/12/2022,100.00,\\n41722,First Derivative Sandbox,10099,AIRBUS,A21N,A321-200NX,2020,HALVO,,01/01/2022,31/12/2022,100.00,\\n41723,First Derivative Sandbox,10117,AIRBUS,A21N,A321-200N,2020,JA150A,,01/01/2022,31/12/2022,100.00,\\n'"
      ]
     },
     "execution_count": 30,
     "metadata": {},
     "output_type": "execute_result"
    }
   ],
   "source": [
    "response.text"
   ]
  },
  {
   "cell_type": "code",
   "execution_count": 31,
   "metadata": {},
   "outputs": [
    {
     "name": "stderr",
     "output_type": "stream",
     "text": [
      "ERROR:root:Invalid alias: The name clear can't be aliased because it is another magic command.\n",
      "ERROR:root:Invalid alias: The name more can't be aliased because it is another magic command.\n",
      "ERROR:root:Invalid alias: The name less can't be aliased because it is another magic command.\n",
      "ERROR:root:Invalid alias: The name man can't be aliased because it is another magic command.\n"
     ]
    }
   ],
   "source": [
    "exit()"
   ]
  },
  {
   "cell_type": "code",
   "execution_count": null,
   "metadata": {},
   "outputs": [],
   "source": []
  }
 ],
 "metadata": {
  "kernelspec": {
   "display_name": "Python 3",
   "language": "python",
   "name": "python3"
  },
  "language_info": {
   "codemirror_mode": {
    "name": "ipython",
    "version": 3
   },
   "file_extension": ".py",
   "mimetype": "text/x-python",
   "name": "python",
   "nbconvert_exporter": "python",
   "pygments_lexer": "ipython3",
   "version": "3.7.7"
  }
 },
 "nbformat": 4,
 "nbformat_minor": 1
}
