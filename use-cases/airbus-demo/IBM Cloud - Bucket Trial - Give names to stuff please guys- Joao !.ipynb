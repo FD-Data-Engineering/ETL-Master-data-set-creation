{
 "cells": [
  {
   "cell_type": "code",
   "execution_count": 3,
   "metadata": {},
   "outputs": [],
   "source": [
    "import io\n",
    "import sys\n",
    "import numpy as np \n",
    "import pandas as pd \n",
    "import folium\n",
    "from folium import plugins\n",
    "from folium.plugins import Search\n",
    "from functools import reduce\n",
    "from ibm_botocore.client import Config, ClientError\n",
    "import ibm_boto3\n",
    "from glob import glob\n",
    "from datetime import datetime\n",
    "import math\n"
   ]
  },
  {
   "cell_type": "code",
   "execution_count": 4,
   "metadata": {},
   "outputs": [],
   "source": [
    "def getCOSconfig():\n",
    "  COS_ENDPOINT = \"https://s3.direct.eu-de.cloud-object-storage.appdomain.cloud\" # Current list avaiable at https://control.cloud-object-storage.cloud.ibm.com/v2/endpoints\n",
    "  COS_API_KEY_ID = \"lDN2rL5N-52OZANVY3pjc1lbXqhAI1KGHNMj8IgBP9PV\" # eg \"W00YixxxxxxxxxxMB-odB-2ySfTrFBIQQWanc--P3byk\"\n",
    "  COS_INSTANCE_CRN = \"crn:v1:bluemix:public:cloud-object-storage:global:a/f2d7386c3c18406b9e2eed413aa7d007:629d310c-63f6-474a-826c-323c2af3d861::\" \n",
    "  # eg               \"crn:v1:bluemix:public:cloud-object-storage:global:a/3bf0d9003xxxxxxxxxx1c3e97696b71c:d6f04d83-6c4f-4a62-a165-696756d63903::\"\n",
    "  auth_endpoint = 'https://iam.bluemix.net/oidc/token'\n",
    "  \n",
    "  # Create resource\n",
    "  cos = ibm_boto3.resource(\"s3\",\n",
    "      ibm_api_key_id=COS_API_KEY_ID,\n",
    "      ibm_service_instance_id=COS_INSTANCE_CRN,\n",
    "      ibm_auth_endpoint=auth_endpoint,\n",
    "      config=Config(signature_version=\"oauth\"),\n",
    "      endpoint_url=COS_ENDPOINT\n",
    "  )"
   ]
  },
  {
   "cell_type": "code",
   "execution_count": 5,
   "metadata": {},
   "outputs": [
    {
     "name": "stdout",
     "output_type": "stream",
     "text": [
      "None\n"
     ]
    }
   ],
   "source": [
    "cos = getCOSconfig()\n",
    "print(cos)"
   ]
  },
  {
   "cell_type": "code",
   "execution_count": 70,
   "metadata": {},
   "outputs": [],
   "source": [
    "def getBucketContents(cos,bucket_name):\n",
    "    itemsList = []\n",
    "    print(\"Retrieving bucket contents from:{0}\".format(bucket_name))\n",
    "    try:\n",
    "        #arr = []\n",
    "        files = cos.Bucket(\"publishedairbusdata\").objects.all()\n",
    "        print(\"Retrieving FILES from bucket:{0}\".format(files))\n",
    "#         for file in files:\n",
    "#             itemsList.append(\"{0}\".format(file.key, file.size))\n",
    "        # itemsList = [item for item in arr if all(filters in item for filters in filterArgs)]\n",
    "        print(\"Retrieving items from bucket:{0}\".format(itemsList))\n",
    "    except ClientError as be:\n",
    "        print(\"CLIENT ERROR: {0}\\n\".format(be))\n",
    "    except Exception as e:\n",
    "        print(\"Unable to retrieve bucket contents: {0}\".format(e))\n",
    "    return itemsList"
   ]
  },
  {
   "cell_type": "code",
   "execution_count": 22,
   "metadata": {},
   "outputs": [
    {
     "name": "stdout",
     "output_type": "stream",
     "text": [
      "Retrieving bucket contents from:publishedairbusdata\n",
      "Unable to retrieve bucket contents: 'NoneType' object has no attribute 'Bucket'\n"
     ]
    }
   ],
   "source": [
    "itemsList = getBucketContents(cos,\"publishedairbusdata\")"
   ]
  },
  {
   "cell_type": "code",
   "execution_count": 65,
   "metadata": {},
   "outputs": [],
   "source": [
    "cos = ibm_boto3.client(service_name='s3',\n",
    "    ibm_api_key_id='lDN2rL5N-52OZANVY3pjc1lbXqhAI1KGHNMj8IgBP9PV', \n",
    "    ibm_auth_endpoint=\"https://iam.ng.bluemix.net/oidc/token\",\n",
    "    config=Config(signature_version='oauth'),\n",
    "    endpoint_url=\"https://s3.direct.eu-de.cloud-object-storage.appdomain.cloud\")"
   ]
  },
  {
   "cell_type": "code",
   "execution_count": 66,
   "metadata": {},
   "outputs": [
    {
     "name": "stdout",
     "output_type": "stream",
     "text": [
      "None\n"
     ]
    }
   ],
   "source": [
    "cos = getCOSconfig()\n",
    "print(cos)"
   ]
  },
  {
   "cell_type": "code",
   "execution_count": null,
   "metadata": {},
   "outputs": [],
   "source": []
  }
 ],
 "metadata": {
  "kernelspec": {
   "display_name": "Python 3",
   "language": "python",
   "name": "python3"
  },
  "language_info": {
   "codemirror_mode": {
    "name": "ipython",
    "version": 3
   },
   "file_extension": ".py",
   "mimetype": "text/x-python",
   "name": "python",
   "nbconvert_exporter": "python",
   "pygments_lexer": "ipython3",
   "version": "3.7.7"
  }
 },
 "nbformat": 4,
 "nbformat_minor": 2
}
