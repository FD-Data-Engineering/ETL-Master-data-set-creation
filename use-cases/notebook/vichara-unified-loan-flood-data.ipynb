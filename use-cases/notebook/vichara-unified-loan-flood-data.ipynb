{
 "cells": [
  {
   "cell_type": "code",
   "execution_count": 1,
   "id": "8335a069",
   "metadata": {},
   "outputs": [],
   "source": [
    "import sys\n",
    "#from pyspark import SparkContext\n",
    "from pyspark.sql import SparkSession\n",
    "from pyspark.sql.window import Window\n",
    "from pyspark.sql.functions import from_unixtime, col, to_timestamp, split, explode, sum, count, row_number, desc\n",
    "from pyspark.sql.types import StructType,TimestampType, StringType, IntegerType, DoubleType\n",
    "from datetime import datetime"
   ]
  },
  {
   "cell_type": "code",
   "execution_count": 2,
   "id": "ea63f41c",
   "metadata": {},
   "outputs": [],
   "source": [
    "# Create spark session\n",
    "def init_spark():\n",
    "  spark = (SparkSession\n",
    "    .builder\n",
    "    .getOrCreate())\n",
    "  sc = spark.sparkContext\n",
    "  return spark,sc"
   ]
  },
  {
   "cell_type": "code",
   "execution_count": 3,
   "id": "b5525570",
   "metadata": {},
   "outputs": [],
   "source": [
    "def getLogger(spark):\n",
    "    log4j_logger = spark._jvm.org.apache.log4j\n",
    "    logger = log4j_logger.LogManager.getRootLogger()\n",
    "    return logger"
   ]
  },
  {
   "cell_type": "code",
   "execution_count": 4,
   "id": "bd4aad23",
   "metadata": {},
   "outputs": [
    {
     "name": "stderr",
     "output_type": "stream",
     "text": [
      "WARNING: An illegal reflective access operation has occurred\n",
      "WARNING: Illegal reflective access by org.apache.spark.unsafe.Platform (file:/usr/local/spark-3.1.2-bin-hadoop3.2/jars/spark-unsafe_2.12-3.1.2.jar) to constructor java.nio.DirectByteBuffer(long,int)\n",
      "WARNING: Please consider reporting this to the maintainers of org.apache.spark.unsafe.Platform\n",
      "WARNING: Use --illegal-access=warn to enable warnings of further illegal reflective access operations\n",
      "WARNING: All illegal access operations will be denied in a future release\n",
      "23/09/15 09:06:38 WARN NativeCodeLoader: Unable to load native-hadoop library for your platform... using builtin-java classes where applicable\n",
      "Using Spark's default log4j profile: org/apache/spark/log4j-defaults.properties\n",
      "Setting default log level to \"WARN\".\n",
      "To adjust logging level use sc.setLogLevel(newLevel). For SparkR, use setLogLevel(newLevel).\n"
     ]
    }
   ],
   "source": [
    "spark,sc = init_spark()\n",
    "#logger = getLogger(spark)\n",
    "#sys.stdout = open(sys.stdout.fileno(), mode='w', encoding='utf8', buffering=1)"
   ]
  },
  {
   "cell_type": "code",
   "execution_count": 5,
   "id": "f40caded",
   "metadata": {},
   "outputs": [],
   "source": [
    "loanDataDynamic =\"Loan_Book_Dynamic.csv\" #contains loan information\n",
    "loanDataSpacr = \"Loan_Book_Stacr.csv\" #contains loan in current state and the flood risk data\n",
    "floodData = \"FloridaPropertyLocationAndFlood_v1_0.csv\" # flood risk data associated with the loan id\n",
    "dtStr = datetime.today().strftime('%Y%m%d')"
   ]
  },
  {
   "cell_type": "code",
   "execution_count": 6,
   "id": "a6f2ded6",
   "metadata": {},
   "outputs": [],
   "source": [
    "#logger.info(\"######################################\")\n",
    "#logger.info(\"READING INPUT FILES\")\n",
    "#logger.debug(\"Loan Data SPACR :: \"+loanDataDynamic)\n",
    "##logger.debug(\"Loan Data Dynamic :: \"+loanDataSpacr)\n",
    "#logger.debug(\"Flood Index :: \"+floodData)\n",
    "#logger.debug(\"Date :: \"+dtStr)\n",
    "#logger.info(\"######################################\")"
   ]
  },
  {
   "cell_type": "code",
   "execution_count": 7,
   "id": "834724cb",
   "metadata": {},
   "outputs": [],
   "source": [
    "####################################\n",
    "# Read CSV Data\n",
    "####################################\n",
    "#logger.info(\"######################################\")\n",
    "#logger.info(\"READING ECAD CSV DATA \")\n",
    "#logger.info(loanDataDynamic)\n",
    "#logger.info(\"######################################\")"
   ]
  },
  {
   "cell_type": "code",
   "execution_count": 8,
   "id": "ed0d89b3",
   "metadata": {},
   "outputs": [],
   "source": [
    "loandata_dynamic_schema = StructType().add(\"ASOFMON\",StringType(),True) .add(\"LOAN_ID\",StringType(),True) .add(\"SERVICER_NAME\",StringType(),True) .add(\"LOAN_AGE\",IntegerType(),True) .add(\"REM_MONTHS_LEGAL_MATURITY\",StringType(),True) .add(\"ADJ_REM_MONTHS_MATURITY\",IntegerType(),True) .add(\"CUR_DELINQUENCY_STATUS\",StringType(),True) .add(\"PAYMENT_HISTORY\",StringType(),True) .add(\"CUR_INT_RATE\",DoubleType(),True) .add(\"CUR_ACTUAL_UPB\",DoubleType(),True) .add(\"CUR_INT_BEARING_UPB\",DoubleType(),True) .add(\"UPB_AT_REMOVAL\",DoubleType(),True) .add(\"ZERO_BAL_CODE\",IntegerType(),True) .add(\"ZERO_BAL_DATE\",StringType(),True) .add(\"UNDERWRITING_DEFECT_SETTLEMENT_DATE\",StringType(),True) .add(\"MOD_FLAG\",StringType(),True) .add(\"DISASTER_FORBEARANCE_STATUS\",IntegerType(),True) .add(\"DUE_DATE_LAST_P_I\",StringType(),True) .add(\"BANKUPTACY_FLAG\",StringType(),True) .add(\"FORECLOSURE_DATE\",StringType(),True) .add(\"NET_SALES_PROCEEDS\",DoubleType(),True) .add(\"MI_CREDIT\",DoubleType(),True) .add(\"TAXES_AND_INSURANCE\",DoubleType(),True) .add(\"LEGAL_COST\",DoubleType(),True) .add(\"MAINTENANCE_PRESERVATION_COST\",DoubleType(),True) .add(\"BANKRUPTCY_CRAMDOWN_COST\",IntegerType(),True) .add(\"MISC_EXPENSES\",DoubleType(),True) .add(\"MISC_CREDITS\",DoubleType(),True) .add(\"MI_CANCELLATION_INDICATOR\",StringType(),True) .add(\"ESTIMATED_LTV\",IntegerType(),True) .add(\"FORECAST_STANDARD_DEVIATION\",StringType(),True) .add(\"CREDIT_SCORE_CURRENT_FICO\",IntegerType(),True) .add(\"UPDATED_CREDIT_SCORE_2\",IntegerType(),True) .add(\"MOD_NO\",IntegerType(),True) .add(\"MOD_PROGRAM\",StringType(),True) .add(\"MOD_TYPE\",StringType(),True) .add(\"MOD_FIRST_PAY_DATE\",StringType(),True) .add(\"MOD_DTI_RATIO\",IntegerType(),True) .add(\"TOTAL_CAPITALIZED_AMT\",DoubleType(),True) .add(\"INTEREST_RATE_INDICATOR\",StringType(),True) .add(\"FIRST_RATE_ADJ_DATE\",StringType(),True) .add(\"FIRST_RATE\",StringType(),True) .add(\"SCOND_RATE_ADJ_DATE\",StringType(),True) .add(\"SCOND_RATE\",StringType(),True) .add(\"THIRD_RATE_ADJ_DATE\",StringType(),True) .add(\"THIRD_RATE\",StringType(),True) .add(\"FOURTH_RATE_ADJ_DATE\",StringType(),True) .add(\"FOURTH_RATE\",StringType(),True) .add(\"FIFTH_RATE_ADJ_DATE\",StringType(),True) .add(\"FIFTH_RATE\",StringType(),True) .add(\"DELINQUENCY_ACCRUED_INT\",DoubleType(),True) .add(\"MODIFICATION_COST\",DoubleType(),True) .add(\"LOAN_IN_ELIGIBLE_DISASTER_AREA\",StringType(),True) .add(\"UPDATED_CREDIT_SCORE_3\",StringType(),True) .add(\"ALTERNATIVE_APPRAISAL_TYPE\",StringType(),True) .add(\"GROUP_NUMBER\",IntegerType(),True) .add(\"ENHANCED_RELIEF_REFI_INDICATOR\",IntegerType(),True) .add(\"BORROWER_ASSISTANCE_PLAN\",IntegerType(),True) .add(\"PAYMENT_DEFERRAL_FLAG\",StringType(),True) .add(\"DISTRESSED_PRINCIPAL_BALANCE_FLAG\",StringType(),True)"
   ]
  },
  {
   "cell_type": "code",
   "execution_count": 9,
   "id": "8714c951",
   "metadata": {},
   "outputs": [],
   "source": [
    "df_loandata_dynamic_csv = (\n",
    "        spark.read\n",
    "        .format(\"csv\")\n",
    "        .option(\"header\", True)\n",
    "        .option(\"encoding\", \"UTF-8\")\n",
    "        .option(\"mode\", \"PERMISSIVE\")\n",
    "        .option(\"columnNameOfCorruptRecord\", \"_corrupt_record\")\n",
    "        .schema(loandata_dynamic_schema)\n",
    "        .load(loanDataDynamic)\n",
    "    )"
   ]
  },
  {
   "cell_type": "code",
   "execution_count": 10,
   "id": "a63587d6",
   "metadata": {},
   "outputs": [
    {
     "data": {
      "text/plain": [
       "<bound method DataFrame.printSchema of DataFrame[ASOFMON: string, LOAN_ID: string, SERVICER_NAME: string, LOAN_AGE: int, REM_MONTHS_LEGAL_MATURITY: string, ADJ_REM_MONTHS_MATURITY: int, CUR_DELINQUENCY_STATUS: string, PAYMENT_HISTORY: string, CUR_INT_RATE: double, CUR_ACTUAL_UPB: double, CUR_INT_BEARING_UPB: double, UPB_AT_REMOVAL: double, ZERO_BAL_CODE: int, ZERO_BAL_DATE: string, UNDERWRITING_DEFECT_SETTLEMENT_DATE: string, MOD_FLAG: string, DISASTER_FORBEARANCE_STATUS: int, DUE_DATE_LAST_P_I: string, BANKUPTACY_FLAG: string, FORECLOSURE_DATE: string, NET_SALES_PROCEEDS: double, MI_CREDIT: double, TAXES_AND_INSURANCE: double, LEGAL_COST: double, MAINTENANCE_PRESERVATION_COST: double, BANKRUPTCY_CRAMDOWN_COST: int, MISC_EXPENSES: double, MISC_CREDITS: double, MI_CANCELLATION_INDICATOR: string, ESTIMATED_LTV: int, FORECAST_STANDARD_DEVIATION: string, CREDIT_SCORE_CURRENT_FICO: int, UPDATED_CREDIT_SCORE_2: int, MOD_NO: int, MOD_PROGRAM: string, MOD_TYPE: string, MOD_FIRST_PAY_DATE: string, MOD_DTI_RATIO: int, TOTAL_CAPITALIZED_AMT: double, INTEREST_RATE_INDICATOR: string, FIRST_RATE_ADJ_DATE: string, FIRST_RATE: string, SCOND_RATE_ADJ_DATE: string, SCOND_RATE: string, THIRD_RATE_ADJ_DATE: string, THIRD_RATE: string, FOURTH_RATE_ADJ_DATE: string, FOURTH_RATE: string, FIFTH_RATE_ADJ_DATE: string, FIFTH_RATE: string, DELINQUENCY_ACCRUED_INT: double, MODIFICATION_COST: double, LOAN_IN_ELIGIBLE_DISASTER_AREA: string, UPDATED_CREDIT_SCORE_3: string, ALTERNATIVE_APPRAISAL_TYPE: string, GROUP_NUMBER: int, ENHANCED_RELIEF_REFI_INDICATOR: int, BORROWER_ASSISTANCE_PLAN: int, PAYMENT_DEFERRAL_FLAG: string, DISTRESSED_PRINCIPAL_BALANCE_FLAG: string]>"
      ]
     },
     "execution_count": 10,
     "metadata": {},
     "output_type": "execute_result"
    }
   ],
   "source": [
    "df_loandata_dynamic_csv.printSchema"
   ]
  },
  {
   "cell_type": "code",
   "execution_count": 11,
   "id": "cae8fdc8",
   "metadata": {},
   "outputs": [
    {
     "name": "stderr",
     "output_type": "stream",
     "text": [
      "23/09/15 09:06:50 WARN package: Truncated the string representation of a plan since it was too large. This behavior can be adjusted by setting 'spark.sql.debug.maxToStringFields'.\n",
      "                                                                                \r"
     ]
    },
    {
     "name": "stdout",
     "output_type": "stream",
     "text": [
      "+----------+------------+-----------------------------------------+--------+-------------------------+-----------------------+----------------------+---------------+------------+--------------+-------------------+--------------+-------------+-------------+-----------------------------------+--------+---------------------------+-----------------+---------------+----------------+------------------+---------+-------------------+----------+-----------------------------+------------------------+-------------+------------+-------------------------+-------------+---------------------------+-------------------------+----------------------+------+-----------+--------+------------------+-------------+---------------------+-----------------------+-------------------+----------+-------------------+----------+-------------------+----------+--------------------+-----------+-------------------+----------+-----------------------+-----------------+------------------------------+----------------------+--------------------------+------------+------------------------------+------------------------+---------------------+---------------------------------+\n",
      "|ASOFMON   |LOAN_ID     |SERVICER_NAME                            |LOAN_AGE|REM_MONTHS_LEGAL_MATURITY|ADJ_REM_MONTHS_MATURITY|CUR_DELINQUENCY_STATUS|PAYMENT_HISTORY|CUR_INT_RATE|CUR_ACTUAL_UPB|CUR_INT_BEARING_UPB|UPB_AT_REMOVAL|ZERO_BAL_CODE|ZERO_BAL_DATE|UNDERWRITING_DEFECT_SETTLEMENT_DATE|MOD_FLAG|DISASTER_FORBEARANCE_STATUS|DUE_DATE_LAST_P_I|BANKUPTACY_FLAG|FORECLOSURE_DATE|NET_SALES_PROCEEDS|MI_CREDIT|TAXES_AND_INSURANCE|LEGAL_COST|MAINTENANCE_PRESERVATION_COST|BANKRUPTCY_CRAMDOWN_COST|MISC_EXPENSES|MISC_CREDITS|MI_CANCELLATION_INDICATOR|ESTIMATED_LTV|FORECAST_STANDARD_DEVIATION|CREDIT_SCORE_CURRENT_FICO|UPDATED_CREDIT_SCORE_2|MOD_NO|MOD_PROGRAM|MOD_TYPE|MOD_FIRST_PAY_DATE|MOD_DTI_RATIO|TOTAL_CAPITALIZED_AMT|INTEREST_RATE_INDICATOR|FIRST_RATE_ADJ_DATE|FIRST_RATE|SCOND_RATE_ADJ_DATE|SCOND_RATE|THIRD_RATE_ADJ_DATE|THIRD_RATE|FOURTH_RATE_ADJ_DATE|FOURTH_RATE|FIFTH_RATE_ADJ_DATE|FIFTH_RATE|DELINQUENCY_ACCRUED_INT|MODIFICATION_COST|LOAN_IN_ELIGIBLE_DISASTER_AREA|UPDATED_CREDIT_SCORE_3|ALTERNATIVE_APPRAISAL_TYPE|GROUP_NUMBER|ENHANCED_RELIEF_REFI_INDICATOR|BORROWER_ASSISTANCE_PLAN|PAYMENT_DEFERRAL_FLAG|DISTRESSED_PRINCIPAL_BALANCE_FLAG|\n",
      "+----------+------------+-----------------------------------------+--------+-------------------------+-----------------------+----------------------+---------------+------------+--------------+-------------------+--------------+-------------+-------------+-----------------------------------+--------+---------------------------+-----------------+---------------+----------------+------------------+---------+-------------------+----------+-----------------------------+------------------------+-------------+------------+-------------------------+-------------+---------------------------+-------------------------+----------------------+------+-----------+--------+------------------+-------------+---------------------+-----------------------+-------------------+----------+-------------------+----------+-------------------+----------+--------------------+-----------+-------------------+----------+-----------------------+-----------------+------------------------------+----------------------+--------------------------+------------+------------------------------+------------------------+---------------------+---------------------------------+\n",
      "|01/05/2023|13DN01000144|JPMORGAN CHASE BANK, NATIONAL ASSOCIATION|103     |257                      |257                    |0                     |0              |3.875       |0.0           |0.0                |289671.37     |1            |01/03/2021   |null                               |null    |null                       |01/03/2021       |null           |null            |null              |null     |null               |null      |null                         |null                    |null         |null        |7                        |40           |null                       |703                      |674                   |0     |null       |null    |null              |null         |null                 |null                   |null               |null      |null               |null      |null               |null      |null                |null       |null               |null      |null                   |null             |null                          |null                  |null                      |7           |1                             |7                       |null                 |null                             |\n",
      "|01/05/2023|13DN01000184|WELLS FARGO BANK, N.A.                   |24      |336                      |336                    |0                     |0              |3.875       |0.0           |0.0                |373731.65     |1            |01/07/2014   |null                               |null    |null                       |null             |null           |null            |null              |null     |null               |null      |null                         |null                    |null         |null        |7                        |null         |null                       |null                     |null                  |0     |null       |null    |null              |null         |null                 |null                   |null               |null      |null               |null      |null               |null      |null                |null       |null               |null      |null                   |null             |null                          |null                  |null                      |7           |1                             |7                       |null                 |null                             |\n",
      "|01/05/2023|13DN01000783|BRANCH BANKING & TRUST COMPANY           |46      |314                      |314                    |0                     |0              |4.0         |0.0           |0.0                |96563.37      |1            |01/04/2016   |null                               |null    |null                       |null             |null           |null            |null              |null     |null               |null      |null                         |null                    |null         |null        |7                        |51           |null                       |810                      |799                   |0     |null       |null    |null              |null         |null                 |null                   |null               |null      |null               |null      |null               |null      |null                |null       |null               |null      |null                   |null             |null                          |null                  |null                      |7           |1                             |7                       |null                 |null                             |\n",
      "|01/05/2023|13DN01000988|BRANCH BANKING AND TRUST COMPANY         |88      |272                      |272                    |0                     |0              |3.75        |0.0           |0.0                |120710.45     |1            |01/11/2019   |null                               |null    |null                       |01/10/2019       |null           |null            |null              |null     |null               |null      |null                         |null                    |null         |null        |7                        |52           |null                       |769                      |766                   |0     |null       |null    |null              |null         |null                 |null                   |null               |null      |null               |null      |null               |null      |null                |null       |null               |null      |null                   |null             |null                          |null                  |null                      |7           |1                             |7                       |null                 |null                             |\n",
      "|01/05/2023|13DN01001335|WELLS FARGO BANK, N.A.                   |32      |328                      |328                    |0                     |0              |3.875       |0.0           |0.0                |137248.26     |1            |01/04/2015   |null                               |null    |null                       |null             |null           |null            |null              |null     |null               |null      |null                         |null                    |null         |null        |7                        |null         |null                       |null                     |null                  |0     |null       |null    |null              |null         |null                 |null                   |null               |null      |null               |null      |null               |null      |null                |null       |null               |null      |null                   |null             |null                          |null                  |null                      |7           |1                             |7                       |null                 |null                             |\n",
      "|01/05/2023|13DN01001436|WELLS FARGO BANK, N.A.                   |32      |327                      |308                    |0                     |0              |3.875       |0.0           |0.0                |67109.8       |1            |01/06/2015   |null                               |null    |null                       |null             |null           |null            |null              |null     |null               |null      |null                         |null                    |null         |null        |7                        |null         |null                       |null                     |null                  |0     |null       |null    |null              |null         |null                 |null                   |null               |null      |null               |null      |null               |null      |null                |null       |null               |null      |null                   |null             |null                          |null                  |null                      |7           |1                             |7                       |null                 |null                             |\n",
      "|01/05/2023|13DN01001594|BANK OF AMERICA, N.A.                    |129     |231                      |231                    |0                     |0              |3.875       |193932.87     |193932.87          |0.0           |null         |null         |null                               |null    |null                       |01/04/2023       |null           |null            |null              |null     |null               |null      |null                         |null                    |null         |null        |7                        |28           |null                       |789                      |850                   |0     |null       |null    |null              |null         |null                 |null                   |null               |null      |null               |null      |null               |null      |null                |null       |null               |null      |null                   |null             |null                          |null                  |null                      |7           |1                             |7                       |null                 |null                             |\n",
      "|01/05/2023|13DN01001656|OTHER                                    |111     |                         |249                    |0                     |0              |3.875       |0.0           |0.0                |46726.66      |1            |01/12/2021   |null                               |null    |null                       |01/12/2021       |null           |null            |null              |null     |null               |null      |null                         |null                    |null         |null        |7                        |11           |null                       |801                      |850                   |0     |null       |null    |null              |null         |null                 |null                   |null               |null      |null               |null      |null               |null      |null                |null       |null               |null      |null                   |null             |null                          |null                  |null                      |7           |1                             |7                       |null                 |null                             |\n",
      "|01/05/2023|13DN01001674|WELLS FARGO BANK, N.A.                   |109     |251                      |251                    |0                     |0              |4.0         |0.0           |0.0                |74612.42      |1            |01/10/2021   |null                               |null    |null                       |01/10/2021       |null           |null            |null              |null     |null               |null      |null                         |null                    |null         |null        |7                        |24           |null                       |754                      |813                   |0     |null       |null    |null              |null         |null                 |null                   |null               |null      |null               |null      |null               |null      |null                |null       |null               |null      |null                   |null             |null                          |null                  |null                      |7           |1                             |7                       |null                 |null                             |\n",
      "|01/05/2023|13DN01001680|WELLS FARGO BANK, N.A.                   |98      |262                      |256                    |0                     |1.01E+46       |4.125       |0.0           |0.0                |59263.85      |1            |01/12/2020   |null                               |null    |null                       |01/11/2020       |null           |null            |null              |null     |null               |null      |null                         |null                    |null         |null        |7                        |30           |null                       |598                      |565                   |0     |null       |null    |null              |null         |null                 |null                   |null               |null      |null               |null      |null               |null      |null                |null       |null               |null      |null                   |null             |null                          |null                  |null                      |7           |1                             |7                       |null                 |null                             |\n",
      "+----------+------------+-----------------------------------------+--------+-------------------------+-----------------------+----------------------+---------------+------------+--------------+-------------------+--------------+-------------+-------------+-----------------------------------+--------+---------------------------+-----------------+---------------+----------------+------------------+---------+-------------------+----------+-----------------------------+------------------------+-------------+------------+-------------------------+-------------+---------------------------+-------------------------+----------------------+------+-----------+--------+------------------+-------------+---------------------+-----------------------+-------------------+----------+-------------------+----------+-------------------+----------+--------------------+-----------+-------------------+----------+-----------------------+-----------------+------------------------------+----------------------+--------------------------+------------+------------------------------+------------------------+---------------------+---------------------------------+\n",
      "only showing top 10 rows\n",
      "\n"
     ]
    }
   ],
   "source": [
    "df_loandata_dynamic_csv.show(10,False)"
   ]
  },
  {
   "cell_type": "code",
   "execution_count": 12,
   "id": "cdd9fea7",
   "metadata": {},
   "outputs": [],
   "source": [
    "loandata_spacr_schema = StructType().add(\"ASOFMON\",StringType(),True) .add(\"LOAN_ID\",StringType(),True) .add(\"PRODUCT_TYPE\",StringType(),True) .add(\"SELLER_NAME\",StringType(),True) .add(\"PROPERTY_STATE\",StringType(),True) .add(\"MSA\",IntegerType(),True) .add(\"FIRST_PAY_DATE\",StringType(),True) .add(\"MATURITY_DATE\",StringType(),True) .add(\"ORIG_LOAN_TERM\",IntegerType(),True) .add(\"ORIG_INT_RATE\",DoubleType(),True) .add(\"ORIG_UPB\",IntegerType(),True) .add(\"UPB_ISSUANCE\",DoubleType(),True) .add(\"LOAN_PURPOSE\",StringType(),True) .add(\"CHANNEL\",StringType(),True) .add(\"PROPERTY_TYPE\",StringType(),True) .add(\"NUMBER_OF_UNITS\",IntegerType(),True) .add(\"OCCUPANCY_STATUS\",StringType(),True) .add(\"NUMBER_OF_BORROWERS\",IntegerType(),True) .add(\"FIRST_BUYER_INDICATOR\",StringType(),True) .add(\"PRE_PAYMENT_PENALTY_INDICATOR\",StringType(),True) .add(\"CREDIT_SCORE_ORIGINATION\",IntegerType(),True) .add(\"ORIG_LTV\",IntegerType(),True) .add(\"ORIG_CLTV\",IntegerType(),True) .add(\"ORIG_DTI\",IntegerType(),True) .add(\"MI_PCT\",IntegerType(),True) .add(\"ESTIMATED_LTV\",StringType(),True) .add(\"BORROWER_PAID\",StringType(),True) .add(\"PROGRAM_INDICATOR\",StringType(),True) .add(\"MTG_INSURANCE_TYPE\",IntegerType(),True) .add(\"ALTERNATIVE_APPRAISAL_TYPE\",StringType(),True) .add(\"GROUP_NUMBER\",IntegerType(),True) .add(\"ENHANCED_RELIEF_REFI_INDICATOR\",IntegerType(),True) .add(\"PROPERTY_ZIP\",IntegerType(),True)\n",
    "df_loandata_spacr_csv = (\n",
    "        spark.read\n",
    "        .format(\"csv\")\n",
    "        .option(\"header\", True)\n",
    "        .option(\"encoding\", \"UTF-8\")\n",
    "        .option(\"mode\", \"PERMISSIVE\")\n",
    "        .option(\"columnNameOfCorruptRecord\", \"_corrupt_record\")\n",
    "        .schema(loandata_spacr_schema)\n",
    "        .load(loanDataSpacr)\n",
    "    )"
   ]
  },
  {
   "cell_type": "code",
   "execution_count": 13,
   "id": "32bd0cda",
   "metadata": {},
   "outputs": [
    {
     "data": {
      "text/plain": [
       "<bound method DataFrame.printSchema of DataFrame[ASOFMON: string, LOAN_ID: string, PRODUCT_TYPE: string, SELLER_NAME: string, PROPERTY_STATE: string, MSA: int, FIRST_PAY_DATE: string, MATURITY_DATE: string, ORIG_LOAN_TERM: int, ORIG_INT_RATE: double, ORIG_UPB: int, UPB_ISSUANCE: double, LOAN_PURPOSE: string, CHANNEL: string, PROPERTY_TYPE: string, NUMBER_OF_UNITS: int, OCCUPANCY_STATUS: string, NUMBER_OF_BORROWERS: int, FIRST_BUYER_INDICATOR: string, PRE_PAYMENT_PENALTY_INDICATOR: string, CREDIT_SCORE_ORIGINATION: int, ORIG_LTV: int, ORIG_CLTV: int, ORIG_DTI: int, MI_PCT: int, ESTIMATED_LTV: string, BORROWER_PAID: string, PROGRAM_INDICATOR: string, MTG_INSURANCE_TYPE: int, ALTERNATIVE_APPRAISAL_TYPE: string, GROUP_NUMBER: int, ENHANCED_RELIEF_REFI_INDICATOR: int, PROPERTY_ZIP: int]>"
      ]
     },
     "execution_count": 13,
     "metadata": {},
     "output_type": "execute_result"
    }
   ],
   "source": [
    "df_loandata_spacr_csv.printSchema"
   ]
  },
  {
   "cell_type": "code",
   "execution_count": 14,
   "id": "874154ce",
   "metadata": {},
   "outputs": [
    {
     "name": "stdout",
     "output_type": "stream",
     "text": [
      "+----------+------------+------------+------------------------------+--------------+-----+--------------+-------------+--------------+-------------+--------+------------+------------+-------+-------------+---------------+----------------+-------------------+---------------------+-----------------------------+------------------------+--------+---------+--------+------+-------------+-------------+-----------------+------------------+--------------------------+------------+------------------------------+------------+\n",
      "|ASOFMON   |LOAN_ID     |PRODUCT_TYPE|SELLER_NAME                   |PROPERTY_STATE|MSA  |FIRST_PAY_DATE|MATURITY_DATE|ORIG_LOAN_TERM|ORIG_INT_RATE|ORIG_UPB|UPB_ISSUANCE|LOAN_PURPOSE|CHANNEL|PROPERTY_TYPE|NUMBER_OF_UNITS|OCCUPANCY_STATUS|NUMBER_OF_BORROWERS|FIRST_BUYER_INDICATOR|PRE_PAYMENT_PENALTY_INDICATOR|CREDIT_SCORE_ORIGINATION|ORIG_LTV|ORIG_CLTV|ORIG_DTI|MI_PCT|ESTIMATED_LTV|BORROWER_PAID|PROGRAM_INDICATOR|MTG_INSURANCE_TYPE|ALTERNATIVE_APPRAISAL_TYPE|GROUP_NUMBER|ENHANCED_RELIEF_REFI_INDICATOR|PROPERTY_ZIP|\n",
      "+----------+------------+------------+------------------------------+--------------+-----+--------------+-------------+--------------+-------------+--------+------------+------------+-------+-------------+---------------+----------------+-------------------+---------------------+-----------------------------+------------------------+--------+---------+--------+------+-------------+-------------+-----------------+------------------+--------------------------+------------+------------------------------+------------+\n",
      "|01/05/2023|13DN01000144|FRM         |JPMORGAN CHASE BANK, N.A.     |FL            |45300|01/08/2012    |01/07/2042   |360           |3.875        |353000  |347304.32   |P           |C      |SF           |1              |P               |2                  |N                    |N                            |713                     |80      |80       |30      |0     |null         |null         |null             |7                 |null                      |7           |1                             |336         |\n",
      "|01/05/2023|13DN01000184|FRM         |WELLS FARGO BANK, N.A.        |FL            |45300|01/08/2012    |01/07/2042   |360           |3.875        |388000  |381582.84   |P           |C      |PU           |1              |P               |2                  |N                    |N                            |799                     |80      |80       |50      |0     |null         |null         |null             |7                 |null                      |7           |1                             |335         |\n",
      "|01/05/2023|13DN01000783|FRM         |BRANCH BANKING & TRUST COMPANY|FL            |45300|01/07/2012    |01/06/2042   |360           |4.0          |104000  |102323.98   |P           |C      |PU           |1              |S               |1                  |N                    |N                            |720                     |80      |80       |27      |0     |null         |null         |null             |7                 |null                      |7           |1                             |346         |\n",
      "|01/05/2023|13DN01000988|FRM         |BRANCH BANKING & TRUST COMPANY|FL            |45300|01/07/2012    |01/06/2042   |360           |3.75         |142000  |139781.54   |P           |C      |PU           |1              |P               |1                  |N                    |N                            |799                     |80      |80       |27      |0     |null         |null         |null             |7                 |null                      |7           |1                             |335         |\n",
      "|01/05/2023|13DN01001335|FRM         |WELLS FARGO BANK, N.A.        |FL            |45300|01/09/2012    |01/08/2042   |360           |3.875        |144000  |142290.74   |P           |C      |PU           |1              |I               |2                  |N                    |N                            |708                     |75      |75       |34      |0     |null         |null         |null             |7                 |null                      |7           |1                             |346         |\n",
      "|01/05/2023|13DN01001436|FRM         |WELLS FARGO BANK, N.A.        |FL            |45300|01/09/2012    |01/08/2042   |360           |3.875        |73000   |71473.37    |P           |C      |PU           |1              |P               |1                  |Y                    |N                            |757                     |80      |80       |40      |0     |null         |null         |null             |7                 |null                      |7           |1                             |335         |\n",
      "|01/05/2023|13DN01001594|FRM         |BANK OF AMERICA, N.A.         |FL            |45300|01/08/2012    |01/07/2042   |360           |3.875        |254000  |249423.39   |P           |R      |PU           |1              |P               |1                  |N                    |N                            |810                     |80      |80       |33      |0     |null         |null         |null             |7                 |null                      |7           |1                             |336         |\n",
      "|01/05/2023|13DN01001656|FRM         |OTHER                         |FL            |45300|01/09/2012    |01/08/2042   |360           |3.875        |171000  |168177.88   |P           |R      |CO           |1              |S               |2                  |N                    |N                            |788                     |70      |70       |49      |0     |null         |null         |null             |7                 |null                      |7           |1                             |336         |\n",
      "|01/05/2023|13DN01001674|FRM         |WELLS FARGO BANK, N.A.        |FL            |45300|01/09/2012    |01/08/2042   |360           |4.0          |92000   |90379.86    |P           |R      |PU           |1              |S               |2                  |N                    |N                            |792                     |80      |80       |34      |0     |null         |null         |null             |7                 |null                      |7           |1                             |335         |\n",
      "|01/05/2023|13DN01001680|FRM         |WELLS FARGO BANK, N.A.        |FL            |45300|01/10/2012    |01/09/2042   |360           |4.125        |72000   |70773.38    |P           |B      |SF           |1              |S               |2                  |N                    |N                            |660                     |80      |80       |25      |0     |null         |null         |null             |7                 |null                      |7           |1                             |337         |\n",
      "+----------+------------+------------+------------------------------+--------------+-----+--------------+-------------+--------------+-------------+--------+------------+------------+-------+-------------+---------------+----------------+-------------------+---------------------+-----------------------------+------------------------+--------+---------+--------+------+-------------+-------------+-----------------+------------------+--------------------------+------------+------------------------------+------------+\n",
      "only showing top 10 rows\n",
      "\n"
     ]
    }
   ],
   "source": [
    "df_loandata_spacr_csv.show(10,False)"
   ]
  },
  {
   "cell_type": "code",
   "execution_count": 15,
   "id": "6925768c",
   "metadata": {},
   "outputs": [
    {
     "name": "stderr",
     "output_type": "stream",
     "text": [
      "                                                                                \r"
     ]
    }
   ],
   "source": [
    "floodDataSchema = StructType().add(\"ID\",StringType(),True) .add(\"LOAN_ID\",StringType(),True) .add(\"LATITUDE\",DoubleType(),True) .add(\"LONGITUDE\",DoubleType(),True) .add(\"River_Floodscore_Def\",IntegerType(),True) .add(\"River_Floodscore_UD\",IntegerType(),True) .add(\"Coastal_Floodscore_UD\",IntegerType(),True) .add(\"Surfacewater_Floodscore_UD\",IntegerType(),True) .add(\"FloodScore_Def\",IntegerType(),True) .add(\"FloodScore_UD\",IntegerType(),True) .add(\"River_Floodscore_Def_RCP45_2050\",IntegerType(),True) .add(\"River_Floodscore_UD_RCP45_2050\",IntegerType(),True) .add(\"Surfacewater_Floodscore_UD_RCP45_2050\",IntegerType(),True) .add(\"River_Floodscore_Def_RCP85_2050\",IntegerType(),True) .add(\"River_Floodscore_UD_RCP85_2050\",IntegerType(),True) .add(\"Surfacewater_Floodscore_UD_RCP85_2050\",IntegerType(),True)\n",
    "floodData_csv = (\n",
    "        spark.read\n",
    "        .format(\"csv\")\n",
    "        .option(\"header\", True)\n",
    "        .option(\"encoding\", \"UTF-8\")\n",
    "        #.option(\"mode\", \"PERMISSIVE\")\n",
    "        #.option(\"columnNameOfCorruptRecord\", \"_corrupt_record\")\n",
    "        .option(\"inferSchema\",True)\n",
    "        #.schema(floodDataSchema)\n",
    "        .load(floodData)\n",
    "    )\n",
    "\n"
   ]
  },
  {
   "cell_type": "code",
   "execution_count": 16,
   "id": "59eb62f3",
   "metadata": {},
   "outputs": [
    {
     "data": {
      "text/plain": [
       "<bound method DataFrame.printSchema of DataFrame[ID: string, LOAN_ID: string, LATITUDE: double, LONGITUDE: double, River_Floodscore_Def: int, River_Floodscore_UD: int, Coastal_Floodscore_UD: int, Surfacewater_Floodscore_UD: int, FloodScore_Def: int, FloodScore_UD: int, River_Floodscore_Def_RCP45_2050: int, River_Floodscore_UD_RCP45_2050: int, Surfacewater_Floodscore_UD_RCP45_2050: int, River_Floodscore_Def_RCP85_2050: int, River_Floodscore_UD_RCP85_2050: int, Surfacewater_Floodscore_UD_RCP85_2050: int]>"
      ]
     },
     "execution_count": 16,
     "metadata": {},
     "output_type": "execute_result"
    }
   ],
   "source": [
    "floodData_csv.printSchema"
   ]
  },
  {
   "cell_type": "code",
   "execution_count": 17,
   "id": "4d3a4fe3",
   "metadata": {},
   "outputs": [
    {
     "name": "stdout",
     "output_type": "stream",
     "text": [
      "+----------+------------+-----------+------------+--------------------+-------------------+---------------------+--------------------------+--------------+-------------+-------------------------------+------------------------------+-------------------------------------+-------------------------------+------------------------------+-------------------------------------+\n",
      "|ID        |LOAN_ID     |LATITUDE   |LONGITUDE   |River_Floodscore_Def|River_Floodscore_UD|Coastal_Floodscore_UD|Surfacewater_Floodscore_UD|FloodScore_Def|FloodScore_UD|River_Floodscore_Def_RCP45_2050|River_Floodscore_UD_RCP45_2050|Surfacewater_Floodscore_UD_RCP45_2050|River_Floodscore_Def_RCP85_2050|River_Floodscore_UD_RCP85_2050|Surfacewater_Floodscore_UD_RCP85_2050|\n",
      "+----------+------------+-----------+------------+--------------------+-------------------+---------------------+--------------------------+--------------+-------------+-------------------------------+------------------------------+-------------------------------------+-------------------------------+------------------------------+-------------------------------------+\n",
      "|335_154447|15DN01098485|27.92988644|-82.29040359|0                   |0                  |0                    |0                         |0             |0            |0                              |0                             |0                                    |0                              |0                             |0                                    |\n",
      "|335_123395|15DN01098773|27.845919  |-82.32451   |0                   |0                  |0                    |0                         |0             |0            |0                              |0                             |0                                    |0                              |0                             |0                                    |\n",
      "|335_231278|15DN01098982|27.96465   |-82.28997   |0                   |0                  |0                    |0                         |0             |0            |0                              |0                             |0                                    |0                              |0                             |0                                    |\n",
      "|335_379876|15DN01099536|28.35798341|-82.20981206|0                   |0                  |0                    |1                         |1             |1            |0                              |0                             |1                                    |0                              |0                             |1                                    |\n",
      "|335_128262|15DN01099640|27.79531   |-82.375274  |3                   |3                  |7                    |8                         |18            |18           |3                              |3                             |7                                    |3                              |3                             |8                                    |\n",
      "|335_239493|15DN01099776|27.700396  |-82.459847  |0                   |0                  |6                    |0                         |6             |6            |0                              |0                             |0                                    |0                              |0                             |0                                    |\n",
      "|335_24148 |15DN01100016|28.098857  |-82.586801  |0                   |0                  |0                    |0                         |0             |0            |0                              |0                             |0                                    |0                              |0                             |0                                    |\n",
      "|335_182978|15DN01100822|27.847036  |-82.305148  |0                   |0                  |0                    |0                         |0             |0            |0                              |0                             |0                                    |0                              |0                             |0                                    |\n",
      "|335_111314|15DN01101272|27.916299  |-82.270685  |0                   |0                  |0                    |0                         |0             |0            |0                              |0                             |0                                    |0                              |0                             |0                                    |\n",
      "|335_56499 |15DN01101324|27.79608621|-82.2918967 |0                   |0                  |0                    |0                         |0             |0            |0                              |0                             |0                                    |0                              |0                             |0                                    |\n",
      "+----------+------------+-----------+------------+--------------------+-------------------+---------------------+--------------------------+--------------+-------------+-------------------------------+------------------------------+-------------------------------------+-------------------------------+------------------------------+-------------------------------------+\n",
      "only showing top 10 rows\n",
      "\n"
     ]
    }
   ],
   "source": [
    "floodData_csv.show(10,False)"
   ]
  },
  {
   "cell_type": "code",
   "execution_count": 18,
   "id": "85a81305",
   "metadata": {},
   "outputs": [
    {
     "name": "stderr",
     "output_type": "stream",
     "text": [
      "                                                                                \r"
     ]
    },
    {
     "name": "stdout",
     "output_type": "stream",
     "text": [
      "+------------+-------------+\n",
      "|loan_id     |loan_id_count|\n",
      "+------------+-------------+\n",
      "|13DN01064831|1            |\n",
      "|13DN02011939|1            |\n",
      "|13DN02061197|1            |\n",
      "|13DN02092597|1            |\n",
      "|13DN02112267|1            |\n",
      "|13DN02119730|1            |\n",
      "|13DN02126363|1            |\n",
      "|13DN02135223|1            |\n",
      "|14DN01035122|1            |\n",
      "|14DN01058837|1            |\n",
      "|14DN01066545|1            |\n",
      "|14DN02054891|1            |\n",
      "|14DN02061624|1            |\n",
      "|14DN02063518|1            |\n",
      "|14DN02088202|1            |\n",
      "|14DN03001296|1            |\n",
      "|14DN03003235|1            |\n",
      "|14DN03004897|1            |\n",
      "|14DN03007832|1            |\n",
      "|14DN03065568|1            |\n",
      "|14DN03066405|1            |\n",
      "|14DN04001786|1            |\n",
      "|14DN04032244|1            |\n",
      "|14DN04051685|1            |\n",
      "|14HQ02014714|1            |\n",
      "|14HQ02048674|1            |\n",
      "|14HQ02084136|1            |\n",
      "|15DN01009023|1            |\n",
      "|15DN01010755|1            |\n",
      "|15DN01020506|1            |\n",
      "|15DN01038071|1            |\n",
      "|15DN01044706|1            |\n",
      "|15DN01047786|1            |\n",
      "|15DN01049069|1            |\n",
      "|15DNA1062782|1            |\n",
      "|15DNA1100764|1            |\n",
      "|15DNA2003329|1            |\n",
      "|15DNA2040915|1            |\n",
      "|15DNA2129059|1            |\n",
      "|15DNA2130593|1            |\n",
      "|15DNA3013070|1            |\n",
      "|15DNA3027230|1            |\n",
      "|15DNA3070300|1            |\n",
      "|15DNA3085493|1            |\n",
      "|15DNA3090915|1            |\n",
      "|15HQ02014387|1            |\n",
      "|15HQ02016037|1            |\n",
      "|15HQ02051620|1            |\n",
      "|15HQ02079346|1            |\n",
      "|15HQ02120849|1            |\n",
      "|15HQA1027530|1            |\n",
      "|15HQA1056162|1            |\n",
      "|15HQA2027493|1            |\n",
      "|15HQA2028045|1            |\n",
      "|15HQA2050968|1            |\n",
      "|15HQA2069471|1            |\n",
      "|16DNA1010007|1            |\n",
      "|16DNA1029944|1            |\n",
      "|16DNA2014490|1            |\n",
      "|16DNA2016930|1            |\n",
      "|16DNA2036141|1            |\n",
      "|16DNA2043004|1            |\n",
      "|16DNA2043770|1            |\n",
      "|16DNA2051721|1            |\n",
      "|16DNA2086245|1            |\n",
      "|16DNA3002131|1            |\n",
      "|16DNA3003674|1            |\n",
      "|16DNA3008011|1            |\n",
      "|16DNA3014534|1            |\n",
      "|16DNA3014857|1            |\n",
      "|16DNA3024330|1            |\n",
      "|16DNA3049811|1            |\n",
      "|16DNA3066443|1            |\n",
      "|16DNA3103685|1            |\n",
      "|16DNA4023741|1            |\n",
      "|16DNA4026035|1            |\n",
      "|16DNA4065086|1            |\n",
      "|16DNA4065449|1            |\n",
      "|16DNA4079191|1            |\n",
      "|16HQA1017924|1            |\n",
      "|16HQA1025663|1            |\n",
      "|16HQA1027013|1            |\n",
      "|16HQA1032847|1            |\n",
      "|16HQA1043714|1            |\n",
      "|16HQA1057950|1            |\n",
      "|16HQA1061615|1            |\n",
      "|16HQA1070325|1            |\n",
      "|16HQA1073351|1            |\n",
      "|16HQA2024281|1            |\n",
      "|16HQA2049815|1            |\n",
      "|16HQA2054488|1            |\n",
      "|16HQA3009026|1            |\n",
      "|16HQA3009405|1            |\n",
      "|16HQA3036457|1            |\n",
      "|16HQA3053130|1            |\n",
      "|16HQA3056854|1            |\n",
      "|16HQA4015717|1            |\n",
      "|16HQA4034946|1            |\n",
      "|16HQA4046708|1            |\n",
      "|16HQA4059291|1            |\n",
      "+------------+-------------+\n",
      "only showing top 100 rows\n",
      "\n"
     ]
    }
   ],
   "source": [
    "#data profiling for loan data\n",
    "for col in df_loandata_dynamic_csv.columns:\n",
    "    df_loandata_dynamic_csv = df_loandata_dynamic_csv.withColumnRenamed(col, col.lower())\n",
    "\n",
    "df_loandata_dynamic_csv.groupBy(\"loan_id\").agg(count(\"loan_id\").alias(\"loan_id_count\")).orderBy(desc(\"loan_id_count\")).show(100,False)\n",
    "    "
   ]
  },
  {
   "cell_type": "code",
   "execution_count": 19,
   "id": "65c64c52",
   "metadata": {},
   "outputs": [
    {
     "name": "stderr",
     "output_type": "stream",
     "text": [
      "[Stage 8:=============================================>        (167 + 15) / 200]\r"
     ]
    },
    {
     "name": "stdout",
     "output_type": "stream",
     "text": [
      "+------------+-------------+\n",
      "|loan_id     |loan_id_count|\n",
      "+------------+-------------+\n",
      "|13DN01008599|1            |\n",
      "|13DN01023014|1            |\n",
      "|13DN01029881|1            |\n",
      "|13DN01065837|1            |\n",
      "|13DN02000426|1            |\n",
      "|13DN02101931|1            |\n",
      "|13DN02110336|1            |\n",
      "|13DN02124925|1            |\n",
      "|14DN01038041|1            |\n",
      "|14DN01078495|1            |\n",
      "|14DN01078604|1            |\n",
      "|14DN01083641|1            |\n",
      "|14DN01124902|1            |\n",
      "|14DN02051103|1            |\n",
      "|14DN02068352|1            |\n",
      "|14DN02069196|1            |\n",
      "|14DN02104512|1            |\n",
      "|14DN03031686|1            |\n",
      "|14DN03032649|1            |\n",
      "|14DN03041052|1            |\n",
      "|14DN03046928|1            |\n",
      "|14DN04000050|1            |\n",
      "|14DN04036310|1            |\n",
      "|14HQ02010755|1            |\n",
      "|14HQ02143727|1            |\n",
      "|15DN01029339|1            |\n",
      "|15DN01039892|1            |\n",
      "|15DN01039903|1            |\n",
      "|15DN01098299|1            |\n",
      "|15DN01115667|1            |\n",
      "|15DNA1015627|1            |\n",
      "|15DNA1034376|1            |\n",
      "|15DNA1090349|1            |\n",
      "|15DNA2027922|1            |\n",
      "|15DNA2086429|1            |\n",
      "|15DNA2097569|1            |\n",
      "|15DNA3048709|1            |\n",
      "|15DNA3072922|1            |\n",
      "|15DNA3095310|1            |\n",
      "|15DNA3114878|1            |\n",
      "|15HQ02007122|1            |\n",
      "|15HQ02020195|1            |\n",
      "|15HQ02092484|1            |\n",
      "|15HQ02113503|1            |\n",
      "|15HQ02125291|1            |\n",
      "|15HQ02125462|1            |\n",
      "|15HQA1004012|1            |\n",
      "|15HQA2069398|1            |\n",
      "|16DNA1028654|1            |\n",
      "|16DNA1033714|1            |\n",
      "|16DNA1043650|1            |\n",
      "|16DNA1078032|1            |\n",
      "|16DNA1088642|1            |\n",
      "|16DNA1116526|1            |\n",
      "|16DNA1143917|1            |\n",
      "|16DNA2015849|1            |\n",
      "|16DNA2041969|1            |\n",
      "|16DNA2052680|1            |\n",
      "|16DNA2056610|1            |\n",
      "|16DNA2068883|1            |\n",
      "|16DNA2075184|1            |\n",
      "|16DNA2106537|1            |\n",
      "|16DNA2108558|1            |\n",
      "|16DNA3066477|1            |\n",
      "|16DNA3089580|1            |\n",
      "|16DNA3101950|1            |\n",
      "|16DNA3104754|1            |\n",
      "|16DNA4020065|1            |\n",
      "|16DNA4035129|1            |\n",
      "|16DNA4036559|1            |\n",
      "|16DNA4041525|1            |\n",
      "|16DNA4048836|1            |\n",
      "|16DNA4081257|1            |\n",
      "|16DNA4096081|1            |\n",
      "|16HQA1007680|1            |\n",
      "|16HQA1033607|1            |\n",
      "|16HQA2019080|1            |\n",
      "|16HQA2066497|1            |\n",
      "|16HQA3011109|1            |\n",
      "|16HQA3033124|1            |\n",
      "|16HQA3046149|1            |\n",
      "|16HQA3052490|1            |\n",
      "|16HQA3067398|1            |\n",
      "|16HQA4001820|1            |\n",
      "|16HQA4018582|1            |\n",
      "|16HQA4041194|1            |\n",
      "|16HQA4042816|1            |\n",
      "|17DNA1012378|1            |\n",
      "|17DNA1038418|1            |\n",
      "|17DNA1071256|1            |\n",
      "|17DNA1133391|1            |\n",
      "|17DNA2001259|1            |\n",
      "|17DNA2031902|1            |\n",
      "|17DNA2048977|1            |\n",
      "|17DNA2058861|1            |\n",
      "|17DNA2064834|1            |\n",
      "|17DNA2071295|1            |\n",
      "|17DNA2127271|1            |\n",
      "|17DNA2151046|1            |\n",
      "|17DNA2175057|1            |\n",
      "+------------+-------------+\n",
      "only showing top 100 rows\n",
      "\n"
     ]
    },
    {
     "name": "stderr",
     "output_type": "stream",
     "text": [
      "                                                                                \r"
     ]
    }
   ],
   "source": [
    "for col in df_loandata_spacr_csv.columns:\n",
    "    df_loandata_spacr_csv = df_loandata_spacr_csv.withColumnRenamed(col, col.lower())\n",
    "    \n",
    "df_loandata_spacr_csv.groupBy(\"loan_id\").agg(count(\"loan_id\").alias(\"loan_id_count\")).orderBy(desc(\"loan_id_count\")).show(100,False)"
   ]
  },
  {
   "cell_type": "code",
   "execution_count": 20,
   "id": "67a90a14",
   "metadata": {},
   "outputs": [
    {
     "name": "stderr",
     "output_type": "stream",
     "text": [
      "[Stage 10:===================================================>  (191 + 9) / 200]\r"
     ]
    },
    {
     "name": "stdout",
     "output_type": "stream",
     "text": [
      "+------------+-------------+\n",
      "|loan_id     |loan_id_count|\n",
      "+------------+-------------+\n",
      "|15DN01114915|1            |\n",
      "|20HQA5049373|1            |\n",
      "|21HQA1057323|1            |\n",
      "|22DNA3010835|1            |\n",
      "|22DNA7064733|1            |\n",
      "|18HQA2155900|1            |\n",
      "|19FTR4102023|1            |\n",
      "|18DNA2114017|1            |\n",
      "|16DNA3068236|1            |\n",
      "|20HQA1015103|1            |\n",
      "|20HQA1061076|1            |\n",
      "|16DNA4025253|1            |\n",
      "|21DNA1021428|1            |\n",
      "|21DNA1025686|1            |\n",
      "|21DNA1028190|1            |\n",
      "|21DNA7195981|1            |\n",
      "|20DNA1049259|1            |\n",
      "|15HQA2035744|1            |\n",
      "|21DNA7225784|1            |\n",
      "|20DNA3142148|1            |\n",
      "|21HQA1020818|1            |\n",
      "|18DNA2025934|1            |\n",
      "|20DNA3163149|1            |\n",
      "|20DNA4045380|1            |\n",
      "|16DNA1015013|1            |\n",
      "|19FTR1028442|1            |\n",
      "|18DNA2152085|1            |\n",
      "|18DNA2156102|1            |\n",
      "|18DNA2158537|1            |\n",
      "|18HRP1091090|1            |\n",
      "|22DNA1087601|1            |\n",
      "|20DNA6042514|1            |\n",
      "|21HQA2006383|1            |\n",
      "|21HQA2007564|1            |\n",
      "|22DNA1096569|1            |\n",
      "|21DNA5197302|1            |\n",
      "|20DNA4179318|1            |\n",
      "|20DNA5000447|1            |\n",
      "|20DNA5008321|1            |\n",
      "|19FTR1047391|1            |\n",
      "|20DNA6089096|1            |\n",
      "|18DNA1085566|1            |\n",
      "|21DNA5227779|1            |\n",
      "|18HQA2033239|1            |\n",
      "|19FTR1090446|1            |\n",
      "|18DNA2088925|1            |\n",
      "|19HQA4027585|1            |\n",
      "|21DNA2121506|1            |\n",
      "|14DN01110848|1            |\n",
      "|19FTR1107812|1            |\n",
      "|17DNA1036287|1            |\n",
      "|18HRP1098849|1            |\n",
      "|19FTR3290908|1            |\n",
      "|17HQA2112905|1            |\n",
      "|15HQ02024659|1            |\n",
      "|15HQ02025722|1            |\n",
      "|21DNA6220225|1            |\n",
      "|19DNA1093948|1            |\n",
      "|19HRP1027189|1            |\n",
      "|17DNA2149182|1            |\n",
      "|18DNA2003010|1            |\n",
      "|22HQA1001111|1            |\n",
      "|19DNA1105803|1            |\n",
      "|18HRP2103485|1            |\n",
      "|22HQA2014969|1            |\n",
      "|15HQ02074868|1            |\n",
      "|18DNA2007896|1            |\n",
      "|21DNA2157135|1            |\n",
      "|20HQA3068313|1            |\n",
      "|21DNA2173490|1            |\n",
      "|21DNA2174777|1            |\n",
      "|22HQA1045480|1            |\n",
      "|18HRP1109208|1            |\n",
      "|19HQA2058129|1            |\n",
      "|15DNA1131477|1            |\n",
      "|20HQA3099077|1            |\n",
      "|21HQA1091601|1            |\n",
      "|15DNA3091170|1            |\n",
      "|18HQA2069717|1            |\n",
      "|21HQA1106037|1            |\n",
      "|18HQA2072685|1            |\n",
      "|22HQA2064335|1            |\n",
      "|21DNA6191946|1            |\n",
      "|19FTR3554740|1            |\n",
      "|21DNA1065404|1            |\n",
      "|22HQA3018033|1            |\n",
      "|18HQA2101416|1            |\n",
      "|21DNA1087563|1            |\n",
      "|19DNA1003652|1            |\n",
      "|22HQA3029882|1            |\n",
      "|19FTR3194219|1            |\n",
      "|19FTR3197896|1            |\n",
      "|13DN02015220|1            |\n",
      "|18HQA1162578|1            |\n",
      "|22DNA6004608|1            |\n",
      "|21DNA1090350|1            |\n",
      "|18HQA2126959|1            |\n",
      "|21DNA2039122|1            |\n",
      "|16HQA3027959|1            |\n",
      "|17HQA2060041|1            |\n",
      "+------------+-------------+\n",
      "only showing top 100 rows\n",
      "\n"
     ]
    },
    {
     "name": "stderr",
     "output_type": "stream",
     "text": [
      "                                                                                \r"
     ]
    }
   ],
   "source": [
    "for col in floodData_csv.columns:\n",
    "    floodData_csv = floodData_csv.withColumnRenamed(col, col.lower())\n",
    "    \n",
    "floodData_csv.groupBy(\"loan_id\").agg(count(\"loan_id\").alias(\"loan_id_count\")).orderBy(desc(\"loan_id_count\")).show(100,False)"
   ]
  },
  {
   "cell_type": "code",
   "execution_count": 21,
   "id": "c09302a1",
   "metadata": {},
   "outputs": [
    {
     "name": "stdout",
     "output_type": "stream",
     "text": [
      "df_dynamic contains asofmon\n",
      "df_dynamic contains loan_id\n",
      "df_dynamic contains estimated_ltv\n",
      "df_dynamic contains alternative_appraisal_type\n",
      "df_dynamic contains group_number\n",
      "df_dynamic contains enhanced_relief_refi_indicator\n"
     ]
    }
   ],
   "source": [
    "df_loandata_dynamic_cols = df_loandata_dynamic_csv.columns\n",
    "df_loandata_spacr_cols = df_loandata_spacr_csv.columns\n",
    "floodData_cols = floodData_csv.columns\n",
    "\n",
    "#check if loan data spacr cols exist in loan data dynamic\n",
    "\n",
    "for i in df_loandata_spacr_cols:\n",
    "    if i in df_loandata_dynamic_cols : print(\"df_dynamic contains \"+i)\n",
    "        "
   ]
  },
  {
   "cell_type": "code",
   "execution_count": 24,
   "id": "75148a60",
   "metadata": {
    "scrolled": true
   },
   "outputs": [
    {
     "data": {
      "text/plain": [
       "<bound method DataFrame.printSchema of DataFrame[asofmon: string, loan_id: string, servicer_name: string, loan_age: int, rem_months_legal_maturity: string, adj_rem_months_maturity: int, cur_delinquency_status: string, payment_history: string, cur_int_rate: double, cur_actual_upb: double, cur_int_bearing_upb: double, upb_at_removal: double, zero_bal_code: int, zero_bal_date: string, underwriting_defect_settlement_date: string, mod_flag: string, disaster_forbearance_status: int, due_date_last_p_i: string, bankuptacy_flag: string, foreclosure_date: string, net_sales_proceeds: double, mi_credit: double, taxes_and_insurance: double, legal_cost: double, maintenance_preservation_cost: double, bankruptcy_cramdown_cost: int, misc_expenses: double, misc_credits: double, mi_cancellation_indicator: string, estimated_ltv: int, forecast_standard_deviation: string, credit_score_current_fico: int, updated_credit_score_2: int, mod_no: int, mod_program: string, mod_type: string, mod_first_pay_date: string, mod_dti_ratio: int, total_capitalized_amt: double, interest_rate_indicator: string, first_rate_adj_date: string, first_rate: string, scond_rate_adj_date: string, scond_rate: string, third_rate_adj_date: string, third_rate: string, fourth_rate_adj_date: string, fourth_rate: string, fifth_rate_adj_date: string, fifth_rate: string, delinquency_accrued_int: double, modification_cost: double, loan_in_eligible_disaster_area: string, updated_credit_score_3: string, alternative_appraisal_type: string, group_number: int, enhanced_relief_refi_indicator: int, borrower_assistance_plan: int, payment_deferral_flag: string, distressed_principal_balance_flag: string, product_type: string, seller_name: string, property_state: string, msa: int, first_pay_date: string, maturity_date: string, orig_loan_term: int, orig_int_rate: double, orig_upb: int, upb_issuance: double, loan_purpose: string, channel: string, property_type: string, number_of_units: int, occupancy_status: string, number_of_borrowers: int, first_buyer_indicator: string, pre_payment_penalty_indicator: string, credit_score_origination: int, orig_ltv: int, orig_cltv: int, orig_dti: int, mi_pct: int, borrower_paid: string, program_indicator: string, mtg_insurance_type: int, property_zip: int]>"
      ]
     },
     "execution_count": 24,
     "metadata": {},
     "output_type": "execute_result"
    }
   ],
   "source": [
    "#create unified loan data with flood rating\n",
    "df_unified = df_loandata_dynamic_csv.join(df_loandata_spacr_csv, df_loandata_dynamic_csv.loan_id == df_loandata_spacr_csv.loan_id,\"left_outer\")\n",
    "#drop duplicate columns\n",
    "duplicate_cols = [c for c in df_loandata_spacr_csv.columns if c in df_loandata_dynamic_csv.columns]\n",
    "for col in duplicate_cols:\n",
    "    df_unified = df_unified.drop(df_loandata_spacr_csv[col])\n",
    "    \n",
    "df_unified.printSchema"
   ]
  },
  {
   "cell_type": "code",
   "execution_count": 25,
   "id": "e441f7e0",
   "metadata": {},
   "outputs": [
    {
     "name": "stderr",
     "output_type": "stream",
     "text": [
      "                                                                                \r"
     ]
    }
   ],
   "source": [
    "df_unified.coalesce(1).write.json(\"vichara_loan_flood_data.json\")\n",
    "df_unified.coalesce(1).write.options(header='True', delimiter=',').csv(\"vichara_loan_flood_data.csv\")"
   ]
  },
  {
   "cell_type": "code",
   "execution_count": null,
   "id": "0954775e",
   "metadata": {},
   "outputs": [],
   "source": []
  }
 ],
 "metadata": {
  "kernelspec": {
   "display_name": "Python 3 (ipykernel)",
   "language": "python",
   "name": "python3"
  },
  "language_info": {
   "codemirror_mode": {
    "name": "ipython",
    "version": 3
   },
   "file_extension": ".py",
   "mimetype": "text/x-python",
   "name": "python",
   "nbconvert_exporter": "python",
   "pygments_lexer": "ipython3",
   "version": "3.9.7"
  }
 },
 "nbformat": 4,
 "nbformat_minor": 5
}
